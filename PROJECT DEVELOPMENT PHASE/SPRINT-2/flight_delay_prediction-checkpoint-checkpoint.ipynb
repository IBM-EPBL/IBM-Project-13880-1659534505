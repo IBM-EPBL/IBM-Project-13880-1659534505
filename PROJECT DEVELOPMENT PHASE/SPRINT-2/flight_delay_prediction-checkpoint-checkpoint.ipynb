{
 "cells": [
  {
   "cell_type": "code",
   "execution_count": 1,
   "metadata": {
    "id": "p5e9tcEFAWK6"
   },
   "outputs": [],
   "source": [
    "# import statements\n",
    "import pandas as pd\n",
    "import pickle\n",
    "import joblib\n",
    "import seaborn as sb\n",
    "from sklearn.model_selection import train_test_split\n",
    "from sklearn.tree import DecisionTreeClassifier \n",
    "from sklearn.neighbors import KNeighborsClassifier\n",
    "from sklearn.naive_bayes import GaussianNB\n",
    "from sklearn.tree import DecisionTreeClassifier\n",
    "from sklearn.svm import SVC\n",
    "from sklearn.metrics import classification_report\n",
    "from sklearn.metrics import confusion_matrix\n",
    "from sklearn.metrics import accuracy_score\n",
    "from sklearn.ensemble import VotingClassifier"
   ]
  },
  {
   "cell_type": "code",
   "execution_count": 2,
   "metadata": {
    "colab": {
     "base_uri": "https://localhost:8080/",
     "height": 317
    },
    "id": "Gd-0rUbw_kvN",
    "outputId": "09a19f2d-d7ff-4ed7-a8ad-899b9b091a25"
   },
   "outputs": [
    {
     "data": {
      "text/html": [
       "<div>\n",
       "<style scoped>\n",
       "    .dataframe tbody tr th:only-of-type {\n",
       "        vertical-align: middle;\n",
       "    }\n",
       "\n",
       "    .dataframe tbody tr th {\n",
       "        vertical-align: top;\n",
       "    }\n",
       "\n",
       "    .dataframe thead th {\n",
       "        text-align: right;\n",
       "    }\n",
       "</style>\n",
       "<table border=\"1\" class=\"dataframe\">\n",
       "  <thead>\n",
       "    <tr style=\"text-align: right;\">\n",
       "      <th></th>\n",
       "      <th>YEAR</th>\n",
       "      <th>QUARTER</th>\n",
       "      <th>MONTH</th>\n",
       "      <th>DAY_OF_MONTH</th>\n",
       "      <th>DAY_OF_WEEK</th>\n",
       "      <th>UNIQUE_CARRIER</th>\n",
       "      <th>TAIL_NUM</th>\n",
       "      <th>FL_NUM</th>\n",
       "      <th>ORIGIN_AIRPORT_ID</th>\n",
       "      <th>ORIGIN</th>\n",
       "      <th>...</th>\n",
       "      <th>CRS_ARR_TIME</th>\n",
       "      <th>ARR_TIME</th>\n",
       "      <th>ARR_DELAY</th>\n",
       "      <th>ARR_DEL15</th>\n",
       "      <th>CANCELLED</th>\n",
       "      <th>DIVERTED</th>\n",
       "      <th>CRS_ELAPSED_TIME</th>\n",
       "      <th>ACTUAL_ELAPSED_TIME</th>\n",
       "      <th>DISTANCE</th>\n",
       "      <th>Unnamed: 25</th>\n",
       "    </tr>\n",
       "  </thead>\n",
       "  <tbody>\n",
       "    <tr>\n",
       "      <th>0</th>\n",
       "      <td>2016</td>\n",
       "      <td>1</td>\n",
       "      <td>1</td>\n",
       "      <td>1</td>\n",
       "      <td>5</td>\n",
       "      <td>DL</td>\n",
       "      <td>N836DN</td>\n",
       "      <td>1399</td>\n",
       "      <td>10397</td>\n",
       "      <td>ATL</td>\n",
       "      <td>...</td>\n",
       "      <td>2143</td>\n",
       "      <td>2102.0</td>\n",
       "      <td>-41.0</td>\n",
       "      <td>0.0</td>\n",
       "      <td>0.0</td>\n",
       "      <td>0.0</td>\n",
       "      <td>338.0</td>\n",
       "      <td>295.0</td>\n",
       "      <td>2182.0</td>\n",
       "      <td>NaN</td>\n",
       "    </tr>\n",
       "    <tr>\n",
       "      <th>1</th>\n",
       "      <td>2016</td>\n",
       "      <td>1</td>\n",
       "      <td>1</td>\n",
       "      <td>1</td>\n",
       "      <td>5</td>\n",
       "      <td>DL</td>\n",
       "      <td>N964DN</td>\n",
       "      <td>1476</td>\n",
       "      <td>11433</td>\n",
       "      <td>DTW</td>\n",
       "      <td>...</td>\n",
       "      <td>1435</td>\n",
       "      <td>1439.0</td>\n",
       "      <td>4.0</td>\n",
       "      <td>0.0</td>\n",
       "      <td>0.0</td>\n",
       "      <td>0.0</td>\n",
       "      <td>110.0</td>\n",
       "      <td>115.0</td>\n",
       "      <td>528.0</td>\n",
       "      <td>NaN</td>\n",
       "    </tr>\n",
       "    <tr>\n",
       "      <th>2</th>\n",
       "      <td>2016</td>\n",
       "      <td>1</td>\n",
       "      <td>1</td>\n",
       "      <td>1</td>\n",
       "      <td>5</td>\n",
       "      <td>DL</td>\n",
       "      <td>N813DN</td>\n",
       "      <td>1597</td>\n",
       "      <td>10397</td>\n",
       "      <td>ATL</td>\n",
       "      <td>...</td>\n",
       "      <td>1215</td>\n",
       "      <td>1142.0</td>\n",
       "      <td>-33.0</td>\n",
       "      <td>0.0</td>\n",
       "      <td>0.0</td>\n",
       "      <td>0.0</td>\n",
       "      <td>335.0</td>\n",
       "      <td>300.0</td>\n",
       "      <td>2182.0</td>\n",
       "      <td>NaN</td>\n",
       "    </tr>\n",
       "    <tr>\n",
       "      <th>3</th>\n",
       "      <td>2016</td>\n",
       "      <td>1</td>\n",
       "      <td>1</td>\n",
       "      <td>1</td>\n",
       "      <td>5</td>\n",
       "      <td>DL</td>\n",
       "      <td>N587NW</td>\n",
       "      <td>1768</td>\n",
       "      <td>14747</td>\n",
       "      <td>SEA</td>\n",
       "      <td>...</td>\n",
       "      <td>1335</td>\n",
       "      <td>1345.0</td>\n",
       "      <td>10.0</td>\n",
       "      <td>0.0</td>\n",
       "      <td>0.0</td>\n",
       "      <td>0.0</td>\n",
       "      <td>196.0</td>\n",
       "      <td>205.0</td>\n",
       "      <td>1399.0</td>\n",
       "      <td>NaN</td>\n",
       "    </tr>\n",
       "    <tr>\n",
       "      <th>4</th>\n",
       "      <td>2016</td>\n",
       "      <td>1</td>\n",
       "      <td>1</td>\n",
       "      <td>1</td>\n",
       "      <td>5</td>\n",
       "      <td>DL</td>\n",
       "      <td>N836DN</td>\n",
       "      <td>1823</td>\n",
       "      <td>14747</td>\n",
       "      <td>SEA</td>\n",
       "      <td>...</td>\n",
       "      <td>607</td>\n",
       "      <td>615.0</td>\n",
       "      <td>8.0</td>\n",
       "      <td>0.0</td>\n",
       "      <td>0.0</td>\n",
       "      <td>0.0</td>\n",
       "      <td>247.0</td>\n",
       "      <td>259.0</td>\n",
       "      <td>1927.0</td>\n",
       "      <td>NaN</td>\n",
       "    </tr>\n",
       "  </tbody>\n",
       "</table>\n",
       "<p>5 rows × 26 columns</p>\n",
       "</div>"
      ],
      "text/plain": [
       "   YEAR  QUARTER  MONTH  DAY_OF_MONTH  DAY_OF_WEEK UNIQUE_CARRIER TAIL_NUM  \\\n",
       "0  2016        1      1             1            5             DL   N836DN   \n",
       "1  2016        1      1             1            5             DL   N964DN   \n",
       "2  2016        1      1             1            5             DL   N813DN   \n",
       "3  2016        1      1             1            5             DL   N587NW   \n",
       "4  2016        1      1             1            5             DL   N836DN   \n",
       "\n",
       "   FL_NUM  ORIGIN_AIRPORT_ID ORIGIN  ...  CRS_ARR_TIME ARR_TIME  ARR_DELAY  \\\n",
       "0    1399              10397    ATL  ...          2143   2102.0      -41.0   \n",
       "1    1476              11433    DTW  ...          1435   1439.0        4.0   \n",
       "2    1597              10397    ATL  ...          1215   1142.0      -33.0   \n",
       "3    1768              14747    SEA  ...          1335   1345.0       10.0   \n",
       "4    1823              14747    SEA  ...           607    615.0        8.0   \n",
       "\n",
       "   ARR_DEL15  CANCELLED  DIVERTED  CRS_ELAPSED_TIME  ACTUAL_ELAPSED_TIME  \\\n",
       "0        0.0        0.0       0.0             338.0                295.0   \n",
       "1        0.0        0.0       0.0             110.0                115.0   \n",
       "2        0.0        0.0       0.0             335.0                300.0   \n",
       "3        0.0        0.0       0.0             196.0                205.0   \n",
       "4        0.0        0.0       0.0             247.0                259.0   \n",
       "\n",
       "   DISTANCE  Unnamed: 25  \n",
       "0    2182.0          NaN  \n",
       "1     528.0          NaN  \n",
       "2    2182.0          NaN  \n",
       "3    1399.0          NaN  \n",
       "4    1927.0          NaN  \n",
       "\n",
       "[5 rows x 26 columns]"
      ]
     },
     "execution_count": 2,
     "metadata": {},
     "output_type": "execute_result"
    }
   ],
   "source": [
    "# read dataset\n",
    "dataset = pd.read_csv('flightdata.csv')\n",
    "dataset.head()"
   ]
  },
  {
   "cell_type": "code",
   "execution_count": 3,
   "metadata": {
    "colab": {
     "base_uri": "https://localhost:8080/"
    },
    "id": "xSUX23_VA2GG",
    "outputId": "32def81a-133a-40f1-ad85-ea77c9f8ad3c"
   },
   "outputs": [
    {
     "data": {
      "text/plain": [
       "Index(['YEAR', 'QUARTER', 'MONTH', 'DAY_OF_MONTH', 'DAY_OF_WEEK',\n",
       "       'UNIQUE_CARRIER', 'TAIL_NUM', 'FL_NUM', 'ORIGIN_AIRPORT_ID', 'ORIGIN',\n",
       "       'DEST_AIRPORT_ID', 'DEST', 'CRS_DEP_TIME', 'DEP_TIME', 'DEP_DELAY',\n",
       "       'DEP_DEL15', 'CRS_ARR_TIME', 'ARR_TIME', 'ARR_DELAY', 'ARR_DEL15',\n",
       "       'CANCELLED', 'DIVERTED', 'CRS_ELAPSED_TIME', 'ACTUAL_ELAPSED_TIME',\n",
       "       'DISTANCE', 'Unnamed: 25'],\n",
       "      dtype='object')"
      ]
     },
     "execution_count": 3,
     "metadata": {},
     "output_type": "execute_result"
    }
   ],
   "source": [
    "dataset.columns"
   ]
  },
  {
   "cell_type": "code",
   "execution_count": 4,
   "metadata": {},
   "outputs": [
    {
     "data": {
      "text/plain": [
       "YEAR                     int64\n",
       "QUARTER                  int64\n",
       "MONTH                    int64\n",
       "DAY_OF_MONTH             int64\n",
       "DAY_OF_WEEK              int64\n",
       "UNIQUE_CARRIER          object\n",
       "TAIL_NUM                object\n",
       "FL_NUM                   int64\n",
       "ORIGIN_AIRPORT_ID        int64\n",
       "ORIGIN                  object\n",
       "DEST_AIRPORT_ID          int64\n",
       "DEST                    object\n",
       "CRS_DEP_TIME             int64\n",
       "DEP_TIME               float64\n",
       "DEP_DELAY              float64\n",
       "DEP_DEL15              float64\n",
       "CRS_ARR_TIME             int64\n",
       "ARR_TIME               float64\n",
       "ARR_DELAY              float64\n",
       "ARR_DEL15              float64\n",
       "CANCELLED              float64\n",
       "DIVERTED               float64\n",
       "CRS_ELAPSED_TIME       float64\n",
       "ACTUAL_ELAPSED_TIME    float64\n",
       "DISTANCE               float64\n",
       "Unnamed: 25            float64\n",
       "dtype: object"
      ]
     },
     "execution_count": 4,
     "metadata": {},
     "output_type": "execute_result"
    }
   ],
   "source": [
    "dataset.dtypes"
   ]
  },
  {
   "cell_type": "markdown",
   "metadata": {},
   "source": [
    "VISUALIZATION OF DATA"
   ]
  },
  {
   "cell_type": "code",
   "execution_count": 5,
   "metadata": {},
   "outputs": [],
   "source": [
    "# removing irrelevant data\n",
    "dataset = dataset.drop(['Unnamed: 25', 'UNIQUE_CARRIER'], axis=1)"
   ]
  },
  {
   "cell_type": "code",
   "execution_count": 6,
   "metadata": {
    "colab": {
     "base_uri": "https://localhost:8080/",
     "height": 270
    },
    "id": "ciTiVYSuAh5P",
    "outputId": "a018a976-a70a-4353-94aa-170fa82640b0"
   },
   "outputs": [
    {
     "data": {
      "text/html": [
       "<div>\n",
       "<style scoped>\n",
       "    .dataframe tbody tr th:only-of-type {\n",
       "        vertical-align: middle;\n",
       "    }\n",
       "\n",
       "    .dataframe tbody tr th {\n",
       "        vertical-align: top;\n",
       "    }\n",
       "\n",
       "    .dataframe thead th {\n",
       "        text-align: right;\n",
       "    }\n",
       "</style>\n",
       "<table border=\"1\" class=\"dataframe\">\n",
       "  <thead>\n",
       "    <tr style=\"text-align: right;\">\n",
       "      <th></th>\n",
       "      <th></th>\n",
       "      <th>counts</th>\n",
       "    </tr>\n",
       "    <tr>\n",
       "      <th>column</th>\n",
       "      <th>value</th>\n",
       "      <th></th>\n",
       "    </tr>\n",
       "  </thead>\n",
       "  <tbody>\n",
       "    <tr>\n",
       "      <th rowspan=\"5\" valign=\"top\">DEST</th>\n",
       "      <th>JFK</th>\n",
       "      <td>1312</td>\n",
       "    </tr>\n",
       "    <tr>\n",
       "      <th>SEA</th>\n",
       "      <td>1994</td>\n",
       "    </tr>\n",
       "    <tr>\n",
       "      <th>DTW</th>\n",
       "      <td>2211</td>\n",
       "    </tr>\n",
       "    <tr>\n",
       "      <th>MSP</th>\n",
       "      <td>2493</td>\n",
       "    </tr>\n",
       "    <tr>\n",
       "      <th>ATL</th>\n",
       "      <td>3221</td>\n",
       "    </tr>\n",
       "    <tr>\n",
       "      <th>...</th>\n",
       "      <th>...</th>\n",
       "      <td>...</td>\n",
       "    </tr>\n",
       "    <tr>\n",
       "      <th rowspan=\"5\" valign=\"top\">TAIL_NUM</th>\n",
       "      <th>N582NW</th>\n",
       "      <td>72</td>\n",
       "    </tr>\n",
       "    <tr>\n",
       "      <th>N584NW</th>\n",
       "      <td>72</td>\n",
       "    </tr>\n",
       "    <tr>\n",
       "      <th>N581NW</th>\n",
       "      <td>73</td>\n",
       "    </tr>\n",
       "    <tr>\n",
       "      <th>N856DN</th>\n",
       "      <td>75</td>\n",
       "    </tr>\n",
       "    <tr>\n",
       "      <th>N857DZ</th>\n",
       "      <td>76</td>\n",
       "    </tr>\n",
       "  </tbody>\n",
       "</table>\n",
       "<p>799 rows × 1 columns</p>\n",
       "</div>"
      ],
      "text/plain": [
       "                 counts\n",
       "column   value         \n",
       "DEST     JFK       1312\n",
       "         SEA       1994\n",
       "         DTW       2211\n",
       "         MSP       2493\n",
       "         ATL       3221\n",
       "...                 ...\n",
       "TAIL_NUM N582NW      72\n",
       "         N584NW      72\n",
       "         N581NW      73\n",
       "         N856DN      75\n",
       "         N857DZ      76\n",
       "\n",
       "[799 rows x 1 columns]"
      ]
     },
     "execution_count": 6,
     "metadata": {},
     "output_type": "execute_result"
    }
   ],
   "source": [
    "# find exact value counts of all fields\n",
    "cat_cols = dataset.select_dtypes(include=object).columns.tolist()\n",
    "(pd.DataFrame(\n",
    "    dataset[cat_cols]\n",
    "    .melt(var_name='column', value_name='value')\n",
    "    .value_counts())\n",
    ".rename(columns={0: 'counts'})\n",
    ".sort_values(by=['column', 'counts']))\n"
   ]
  },
  {
   "cell_type": "code",
   "execution_count": 7,
   "metadata": {},
   "outputs": [
    {
     "data": {
      "text/plain": [
       "<seaborn.axisgrid.JointGrid at 0x1ea6f620d30>"
      ]
     },
     "execution_count": 7,
     "metadata": {},
     "output_type": "execute_result"
    },
    {
     "data": {
      "image/png": "[encoded data removed]",
      "text/plain": [
       "<Figure size 600x600 with 3 Axes>"
      ]
     },
     "metadata": {},
     "output_type": "display_data"
    }
   ],
   "source": [
    "#plotting correlations (implication - almost linear relationship)\n",
    "sb.jointplot(data=dataset, x=\"CRS_ARR_TIME\", y=\"ARR_TIME\")"
   ]
  },
  {
   "cell_type": "code",
   "execution_count": 8,
   "metadata": {},
   "outputs": [],
   "source": [
    "# creating a copy of the dataset for visualization\n",
    "\n",
    "dataset_visualization = dataset.copy()"
   ]
  },
  {
   "cell_type": "code",
   "execution_count": 9,
   "metadata": {},
   "outputs": [
    {
     "data": {
      "text/plain": [
       "YEAR                     int64\n",
       "QUARTER                  int64\n",
       "MONTH                    int64\n",
       "DAY_OF_MONTH             int64\n",
       "DAY_OF_WEEK              int64\n",
       "TAIL_NUM                object\n",
       "FL_NUM                   int64\n",
       "ORIGIN_AIRPORT_ID        int64\n",
       "ORIGIN                  object\n",
       "DEST_AIRPORT_ID          int64\n",
       "DEST                    object\n",
       "CRS_DEP_TIME             int64\n",
       "DEP_TIME               float64\n",
       "DEP_DELAY              float64\n",
       "DEP_DEL15              float64\n",
       "CRS_ARR_TIME             int64\n",
       "ARR_TIME               float64\n",
       "ARR_DELAY              float64\n",
       "ARR_DEL15              float64\n",
       "CANCELLED              float64\n",
       "DIVERTED               float64\n",
       "CRS_ELAPSED_TIME       float64\n",
       "ACTUAL_ELAPSED_TIME    float64\n",
       "DISTANCE               float64\n",
       "dtype: object"
      ]
     },
     "execution_count": 9,
     "metadata": {},
     "output_type": "execute_result"
    }
   ],
   "source": [
    "dataset_visualization.dtypes"
   ]
  },
  {
   "cell_type": "code",
   "execution_count": 10,
   "metadata": {},
   "outputs": [
    {
     "data": {
      "text/plain": [
       "YEAR                     int64\n",
       "QUARTER                  int64\n",
       "MONTH                    int64\n",
       "DAY_OF_MONTH             int64\n",
       "DAY_OF_WEEK              int64\n",
       "TAIL_NUM               float64\n",
       "FL_NUM                   int64\n",
       "ORIGIN_AIRPORT_ID        int64\n",
       "ORIGIN                 float64\n",
       "DEST_AIRPORT_ID          int64\n",
       "DEST                   float64\n",
       "CRS_DEP_TIME             int64\n",
       "DEP_TIME               float64\n",
       "DEP_DELAY              float64\n",
       "DEP_DEL15              float64\n",
       "CRS_ARR_TIME             int64\n",
       "ARR_TIME               float64\n",
       "ARR_DELAY              float64\n",
       "ARR_DEL15              float64\n",
       "CANCELLED              float64\n",
       "DIVERTED               float64\n",
       "CRS_ELAPSED_TIME       float64\n",
       "ACTUAL_ELAPSED_TIME    float64\n",
       "DISTANCE               float64\n",
       "dtype: object"
      ]
     },
     "execution_count": 10,
     "metadata": {},
     "output_type": "execute_result"
    }
   ],
   "source": [
    "# convert all object data to numeric values to visualize on heatmap\n",
    "\n",
    "list_str_obj_cols = dataset_visualization.columns[dataset_visualization.dtypes == \"object\"].tolist()\n",
    "for str_obj_col in list_str_obj_cols:\n",
    "    dataset_visualization[str_obj_col] = pd.to_numeric(dataset_visualization[str_obj_col], errors='coerce') \n",
    "dataset_visualization.dtypes"
   ]
  },
  {
   "cell_type": "code",
   "execution_count": 11,
   "metadata": {},
   "outputs": [
    {
     "data": {
      "text/plain": [
       "<AxesSubplot:>"
      ]
     },
     "execution_count": 11,
     "metadata": {},
     "output_type": "execute_result"
    },
    {
     "data": {
      "image/png": "[encoded data removed]",
      "text/plain": [
       "<Figure size 640x480 with 2 Axes>"
      ]
     },
     "metadata": {},
     "output_type": "display_data"
    }
   ],
   "source": [
    "correlations = dataset_visualization.corr()\n",
    "sb.heatmap(correlations)"
   ]
  },
  {
   "cell_type": "code",
   "execution_count": 12,
   "metadata": {},
   "outputs": [
    {
     "data": {
      "text/plain": [
       "YEAR                        NaN\n",
       "QUARTER                0.023102\n",
       "MONTH                  0.030161\n",
       "DAY_OF_MONTH          -0.000597\n",
       "DAY_OF_WEEK           -0.012063\n",
       "TAIL_NUM                    NaN\n",
       "FL_NUM                -0.002378\n",
       "ORIGIN_AIRPORT_ID     -0.006250\n",
       "ORIGIN                      NaN\n",
       "DEST_AIRPORT_ID        0.029525\n",
       "DEST                        NaN\n",
       "CRS_DEP_TIME           0.086057\n",
       "DEP_TIME               0.127593\n",
       "DEP_DELAY              0.578529\n",
       "DEP_DEL15              0.658511\n",
       "CRS_ARR_TIME           0.078282\n",
       "ARR_TIME               0.042298\n",
       "ARR_DELAY              0.661322\n",
       "ARR_DEL15              1.000000\n",
       "CANCELLED                   NaN\n",
       "DIVERTED                    NaN\n",
       "CRS_ELAPSED_TIME       0.015676\n",
       "ACTUAL_ELAPSED_TIME    0.077741\n",
       "DISTANCE               0.002870\n",
       "Name: ARR_DEL15, dtype: float64"
      ]
     },
     "execution_count": 12,
     "metadata": {},
     "output_type": "execute_result"
    }
   ],
   "source": [
    "# to identify the correlations between arrival delay and other fields\n",
    "correlations['ARR_DEL15']"
   ]
  },
  {
   "cell_type": "markdown",
   "metadata": {},
   "source": [
    "DATA PREPROCESSING"
   ]
  },
  {
   "cell_type": "code",
   "execution_count": 13,
   "metadata": {},
   "outputs": [
    {
     "data": {
      "text/html": [
       "<div>\n",
       "<style scoped>\n",
       "    .dataframe tbody tr th:only-of-type {\n",
       "        vertical-align: middle;\n",
       "    }\n",
       "\n",
       "    .dataframe tbody tr th {\n",
       "        vertical-align: top;\n",
       "    }\n",
       "\n",
       "    .dataframe thead th {\n",
       "        text-align: right;\n",
       "    }\n",
       "</style>\n",
       "<table border=\"1\" class=\"dataframe\">\n",
       "  <thead>\n",
       "    <tr style=\"text-align: right;\">\n",
       "      <th></th>\n",
       "      <th>MONTH</th>\n",
       "      <th>DAY_OF_MONTH</th>\n",
       "      <th>CRS_DEP_TIME</th>\n",
       "      <th>DEP_TIME</th>\n",
       "      <th>DEP_DELAY</th>\n",
       "      <th>DEP_DEL15</th>\n",
       "      <th>CRS_ARR_TIME</th>\n",
       "      <th>ARR_DEL15</th>\n",
       "      <th>CANCELLED</th>\n",
       "      <th>DIVERTED</th>\n",
       "    </tr>\n",
       "  </thead>\n",
       "  <tbody>\n",
       "    <tr>\n",
       "      <th>0</th>\n",
       "      <td>1</td>\n",
       "      <td>1</td>\n",
       "      <td>1905</td>\n",
       "      <td>1907.0</td>\n",
       "      <td>2.0</td>\n",
       "      <td>0.0</td>\n",
       "      <td>2143</td>\n",
       "      <td>0.0</td>\n",
       "      <td>0.0</td>\n",
       "      <td>0.0</td>\n",
       "    </tr>\n",
       "    <tr>\n",
       "      <th>1</th>\n",
       "      <td>1</td>\n",
       "      <td>1</td>\n",
       "      <td>1345</td>\n",
       "      <td>1344.0</td>\n",
       "      <td>-1.0</td>\n",
       "      <td>0.0</td>\n",
       "      <td>1435</td>\n",
       "      <td>0.0</td>\n",
       "      <td>0.0</td>\n",
       "      <td>0.0</td>\n",
       "    </tr>\n",
       "    <tr>\n",
       "      <th>2</th>\n",
       "      <td>1</td>\n",
       "      <td>1</td>\n",
       "      <td>940</td>\n",
       "      <td>942.0</td>\n",
       "      <td>2.0</td>\n",
       "      <td>0.0</td>\n",
       "      <td>1215</td>\n",
       "      <td>0.0</td>\n",
       "      <td>0.0</td>\n",
       "      <td>0.0</td>\n",
       "    </tr>\n",
       "    <tr>\n",
       "      <th>3</th>\n",
       "      <td>1</td>\n",
       "      <td>1</td>\n",
       "      <td>819</td>\n",
       "      <td>820.0</td>\n",
       "      <td>1.0</td>\n",
       "      <td>0.0</td>\n",
       "      <td>1335</td>\n",
       "      <td>0.0</td>\n",
       "      <td>0.0</td>\n",
       "      <td>0.0</td>\n",
       "    </tr>\n",
       "    <tr>\n",
       "      <th>4</th>\n",
       "      <td>1</td>\n",
       "      <td>1</td>\n",
       "      <td>2300</td>\n",
       "      <td>2256.0</td>\n",
       "      <td>-4.0</td>\n",
       "      <td>0.0</td>\n",
       "      <td>607</td>\n",
       "      <td>0.0</td>\n",
       "      <td>0.0</td>\n",
       "      <td>0.0</td>\n",
       "    </tr>\n",
       "    <tr>\n",
       "      <th>...</th>\n",
       "      <td>...</td>\n",
       "      <td>...</td>\n",
       "      <td>...</td>\n",
       "      <td>...</td>\n",
       "      <td>...</td>\n",
       "      <td>...</td>\n",
       "      <td>...</td>\n",
       "      <td>...</td>\n",
       "      <td>...</td>\n",
       "      <td>...</td>\n",
       "    </tr>\n",
       "    <tr>\n",
       "      <th>11226</th>\n",
       "      <td>12</td>\n",
       "      <td>30</td>\n",
       "      <td>1005</td>\n",
       "      <td>1003.0</td>\n",
       "      <td>-2.0</td>\n",
       "      <td>0.0</td>\n",
       "      <td>1223</td>\n",
       "      <td>0.0</td>\n",
       "      <td>0.0</td>\n",
       "      <td>0.0</td>\n",
       "    </tr>\n",
       "    <tr>\n",
       "      <th>11227</th>\n",
       "      <td>12</td>\n",
       "      <td>30</td>\n",
       "      <td>1525</td>\n",
       "      <td>1559.0</td>\n",
       "      <td>34.0</td>\n",
       "      <td>1.0</td>\n",
       "      <td>2046</td>\n",
       "      <td>0.0</td>\n",
       "      <td>0.0</td>\n",
       "      <td>0.0</td>\n",
       "    </tr>\n",
       "    <tr>\n",
       "      <th>11228</th>\n",
       "      <td>12</td>\n",
       "      <td>30</td>\n",
       "      <td>1959</td>\n",
       "      <td>1959.0</td>\n",
       "      <td>0.0</td>\n",
       "      <td>0.0</td>\n",
       "      <td>2210</td>\n",
       "      <td>0.0</td>\n",
       "      <td>0.0</td>\n",
       "      <td>0.0</td>\n",
       "    </tr>\n",
       "    <tr>\n",
       "      <th>11229</th>\n",
       "      <td>12</td>\n",
       "      <td>30</td>\n",
       "      <td>1530</td>\n",
       "      <td>1529.0</td>\n",
       "      <td>-1.0</td>\n",
       "      <td>0.0</td>\n",
       "      <td>1806</td>\n",
       "      <td>0.0</td>\n",
       "      <td>0.0</td>\n",
       "      <td>0.0</td>\n",
       "    </tr>\n",
       "    <tr>\n",
       "      <th>11230</th>\n",
       "      <td>12</td>\n",
       "      <td>30</td>\n",
       "      <td>725</td>\n",
       "      <td>723.0</td>\n",
       "      <td>-2.0</td>\n",
       "      <td>0.0</td>\n",
       "      <td>925</td>\n",
       "      <td>0.0</td>\n",
       "      <td>0.0</td>\n",
       "      <td>0.0</td>\n",
       "    </tr>\n",
       "  </tbody>\n",
       "</table>\n",
       "<p>11231 rows × 10 columns</p>\n",
       "</div>"
      ],
      "text/plain": [
       "       MONTH  DAY_OF_MONTH  CRS_DEP_TIME  DEP_TIME  DEP_DELAY  DEP_DEL15  \\\n",
       "0          1             1          1905    1907.0        2.0        0.0   \n",
       "1          1             1          1345    1344.0       -1.0        0.0   \n",
       "2          1             1           940     942.0        2.0        0.0   \n",
       "3          1             1           819     820.0        1.0        0.0   \n",
       "4          1             1          2300    2256.0       -4.0        0.0   \n",
       "...      ...           ...           ...       ...        ...        ...   \n",
       "11226     12            30          1005    1003.0       -2.0        0.0   \n",
       "11227     12            30          1525    1559.0       34.0        1.0   \n",
       "11228     12            30          1959    1959.0        0.0        0.0   \n",
       "11229     12            30          1530    1529.0       -1.0        0.0   \n",
       "11230     12            30           725     723.0       -2.0        0.0   \n",
       "\n",
       "       CRS_ARR_TIME  ARR_DEL15  CANCELLED  DIVERTED  \n",
       "0              2143        0.0        0.0       0.0  \n",
       "1              1435        0.0        0.0       0.0  \n",
       "2              1215        0.0        0.0       0.0  \n",
       "3              1335        0.0        0.0       0.0  \n",
       "4               607        0.0        0.0       0.0  \n",
       "...             ...        ...        ...       ...  \n",
       "11226          1223        0.0        0.0       0.0  \n",
       "11227          2046        0.0        0.0       0.0  \n",
       "11228          2210        0.0        0.0       0.0  \n",
       "11229          1806        0.0        0.0       0.0  \n",
       "11230           925        0.0        0.0       0.0  \n",
       "\n",
       "[11231 rows x 10 columns]"
      ]
     },
     "execution_count": 13,
     "metadata": {},
     "output_type": "execute_result"
    }
   ],
   "source": [
    "# based on the correlation factors\n",
    "refined_dataset = dataset.drop(['YEAR', 'QUARTER', 'DAY_OF_WEEK', 'TAIL_NUM', 'FL_NUM', \n",
    "                                'ORIGIN_AIRPORT_ID', 'DEST_AIRPORT_ID', 'CRS_ELAPSED_TIME', \n",
    "                                'ACTUAL_ELAPSED_TIME', 'DISTANCE', 'ORIGIN',\n",
    "                                'DEST', 'ARR_TIME', 'ARR_DELAY'], axis=1)\n",
    "refined_dataset"
   ]
  },
  {
   "cell_type": "code",
   "execution_count": 14,
   "metadata": {
    "colab": {
     "base_uri": "https://localhost:8080/"
    },
    "id": "vBFuKZAjBqhe",
    "outputId": "5c10db8b-5fc2-4202-fe6c-72e7cce2b28b"
   },
   "outputs": [
    {
     "data": {
      "text/plain": [
       "MONTH             int64\n",
       "DAY_OF_MONTH      int64\n",
       "CRS_DEP_TIME      int64\n",
       "DEP_TIME        float64\n",
       "DEP_DELAY       float64\n",
       "DEP_DEL15       float64\n",
       "CRS_ARR_TIME      int64\n",
       "ARR_DEL15       float64\n",
       "CANCELLED       float64\n",
       "DIVERTED        float64\n",
       "dtype: object"
      ]
     },
     "execution_count": 14,
     "metadata": {},
     "output_type": "execute_result"
    }
   ],
   "source": [
    "# check datatypes of columns\n",
    "refined_dataset.dtypes"
   ]
  },
  {
   "cell_type": "code",
   "execution_count": 15,
   "metadata": {
    "colab": {
     "base_uri": "https://localhost:8080/"
    },
    "id": "J0ip4g33D5X-",
    "outputId": "4ae8d34e-cb4b-4c2b-b42b-ae70a60e47d3"
   },
   "outputs": [
    {
     "data": {
      "text/plain": [
       "MONTH             0\n",
       "DAY_OF_MONTH      0\n",
       "CRS_DEP_TIME      0\n",
       "DEP_TIME        107\n",
       "DEP_DELAY       107\n",
       "DEP_DEL15       107\n",
       "CRS_ARR_TIME      0\n",
       "ARR_DEL15       188\n",
       "CANCELLED         0\n",
       "DIVERTED          0\n",
       "dtype: int64"
      ]
     },
     "execution_count": 15,
     "metadata": {},
     "output_type": "execute_result"
    }
   ],
   "source": [
    "# finding missing values\n",
    "refined_dataset.isna().sum()"
   ]
  },
  {
   "cell_type": "code",
   "execution_count": 16,
   "metadata": {
    "colab": {
     "base_uri": "https://localhost:8080/"
    },
    "id": "mln7dEDKEN_s",
    "outputId": "fa7305f3-e298-4a20-87ca-b46ba56af7f1"
   },
   "outputs": [
    {
     "data": {
      "text/html": [
       "<div>\n",
       "<style scoped>\n",
       "    .dataframe tbody tr th:only-of-type {\n",
       "        vertical-align: middle;\n",
       "    }\n",
       "\n",
       "    .dataframe tbody tr th {\n",
       "        vertical-align: top;\n",
       "    }\n",
       "\n",
       "    .dataframe thead th {\n",
       "        text-align: right;\n",
       "    }\n",
       "</style>\n",
       "<table border=\"1\" class=\"dataframe\">\n",
       "  <thead>\n",
       "    <tr style=\"text-align: right;\">\n",
       "      <th></th>\n",
       "      <th>MONTH</th>\n",
       "      <th>DAY_OF_MONTH</th>\n",
       "      <th>CRS_DEP_TIME</th>\n",
       "      <th>DEP_TIME</th>\n",
       "      <th>DEP_DELAY</th>\n",
       "      <th>DEP_DEL15</th>\n",
       "      <th>CRS_ARR_TIME</th>\n",
       "      <th>ARR_DEL15</th>\n",
       "      <th>CANCELLED</th>\n",
       "      <th>DIVERTED</th>\n",
       "    </tr>\n",
       "  </thead>\n",
       "  <tbody>\n",
       "    <tr>\n",
       "      <th>0</th>\n",
       "      <td>1</td>\n",
       "      <td>1</td>\n",
       "      <td>1905</td>\n",
       "      <td>1907.0</td>\n",
       "      <td>2.0</td>\n",
       "      <td>0.0</td>\n",
       "      <td>2143</td>\n",
       "      <td>0.0</td>\n",
       "      <td>0.0</td>\n",
       "      <td>0.0</td>\n",
       "    </tr>\n",
       "    <tr>\n",
       "      <th>1</th>\n",
       "      <td>1</td>\n",
       "      <td>1</td>\n",
       "      <td>1345</td>\n",
       "      <td>1344.0</td>\n",
       "      <td>-1.0</td>\n",
       "      <td>0.0</td>\n",
       "      <td>1435</td>\n",
       "      <td>0.0</td>\n",
       "      <td>0.0</td>\n",
       "      <td>0.0</td>\n",
       "    </tr>\n",
       "    <tr>\n",
       "      <th>2</th>\n",
       "      <td>1</td>\n",
       "      <td>1</td>\n",
       "      <td>940</td>\n",
       "      <td>942.0</td>\n",
       "      <td>2.0</td>\n",
       "      <td>0.0</td>\n",
       "      <td>1215</td>\n",
       "      <td>0.0</td>\n",
       "      <td>0.0</td>\n",
       "      <td>0.0</td>\n",
       "    </tr>\n",
       "    <tr>\n",
       "      <th>3</th>\n",
       "      <td>1</td>\n",
       "      <td>1</td>\n",
       "      <td>819</td>\n",
       "      <td>820.0</td>\n",
       "      <td>1.0</td>\n",
       "      <td>0.0</td>\n",
       "      <td>1335</td>\n",
       "      <td>0.0</td>\n",
       "      <td>0.0</td>\n",
       "      <td>0.0</td>\n",
       "    </tr>\n",
       "    <tr>\n",
       "      <th>4</th>\n",
       "      <td>1</td>\n",
       "      <td>1</td>\n",
       "      <td>2300</td>\n",
       "      <td>2256.0</td>\n",
       "      <td>-4.0</td>\n",
       "      <td>0.0</td>\n",
       "      <td>607</td>\n",
       "      <td>0.0</td>\n",
       "      <td>0.0</td>\n",
       "      <td>0.0</td>\n",
       "    </tr>\n",
       "    <tr>\n",
       "      <th>...</th>\n",
       "      <td>...</td>\n",
       "      <td>...</td>\n",
       "      <td>...</td>\n",
       "      <td>...</td>\n",
       "      <td>...</td>\n",
       "      <td>...</td>\n",
       "      <td>...</td>\n",
       "      <td>...</td>\n",
       "      <td>...</td>\n",
       "      <td>...</td>\n",
       "    </tr>\n",
       "    <tr>\n",
       "      <th>11226</th>\n",
       "      <td>12</td>\n",
       "      <td>30</td>\n",
       "      <td>1005</td>\n",
       "      <td>1003.0</td>\n",
       "      <td>-2.0</td>\n",
       "      <td>0.0</td>\n",
       "      <td>1223</td>\n",
       "      <td>0.0</td>\n",
       "      <td>0.0</td>\n",
       "      <td>0.0</td>\n",
       "    </tr>\n",
       "    <tr>\n",
       "      <th>11227</th>\n",
       "      <td>12</td>\n",
       "      <td>30</td>\n",
       "      <td>1525</td>\n",
       "      <td>1559.0</td>\n",
       "      <td>34.0</td>\n",
       "      <td>1.0</td>\n",
       "      <td>2046</td>\n",
       "      <td>0.0</td>\n",
       "      <td>0.0</td>\n",
       "      <td>0.0</td>\n",
       "    </tr>\n",
       "    <tr>\n",
       "      <th>11228</th>\n",
       "      <td>12</td>\n",
       "      <td>30</td>\n",
       "      <td>1959</td>\n",
       "      <td>1959.0</td>\n",
       "      <td>0.0</td>\n",
       "      <td>0.0</td>\n",
       "      <td>2210</td>\n",
       "      <td>0.0</td>\n",
       "      <td>0.0</td>\n",
       "      <td>0.0</td>\n",
       "    </tr>\n",
       "    <tr>\n",
       "      <th>11229</th>\n",
       "      <td>12</td>\n",
       "      <td>30</td>\n",
       "      <td>1530</td>\n",
       "      <td>1529.0</td>\n",
       "      <td>-1.0</td>\n",
       "      <td>0.0</td>\n",
       "      <td>1806</td>\n",
       "      <td>0.0</td>\n",
       "      <td>0.0</td>\n",
       "      <td>0.0</td>\n",
       "    </tr>\n",
       "    <tr>\n",
       "      <th>11230</th>\n",
       "      <td>12</td>\n",
       "      <td>30</td>\n",
       "      <td>725</td>\n",
       "      <td>723.0</td>\n",
       "      <td>-2.0</td>\n",
       "      <td>0.0</td>\n",
       "      <td>925</td>\n",
       "      <td>0.0</td>\n",
       "      <td>0.0</td>\n",
       "      <td>0.0</td>\n",
       "    </tr>\n",
       "  </tbody>\n",
       "</table>\n",
       "<p>11043 rows × 10 columns</p>\n",
       "</div>"
      ],
      "text/plain": [
       "       MONTH  DAY_OF_MONTH  CRS_DEP_TIME  DEP_TIME  DEP_DELAY  DEP_DEL15  \\\n",
       "0          1             1          1905    1907.0        2.0        0.0   \n",
       "1          1             1          1345    1344.0       -1.0        0.0   \n",
       "2          1             1           940     942.0        2.0        0.0   \n",
       "3          1             1           819     820.0        1.0        0.0   \n",
       "4          1             1          2300    2256.0       -4.0        0.0   \n",
       "...      ...           ...           ...       ...        ...        ...   \n",
       "11226     12            30          1005    1003.0       -2.0        0.0   \n",
       "11227     12            30          1525    1559.0       34.0        1.0   \n",
       "11228     12            30          1959    1959.0        0.0        0.0   \n",
       "11229     12            30          1530    1529.0       -1.0        0.0   \n",
       "11230     12            30           725     723.0       -2.0        0.0   \n",
       "\n",
       "       CRS_ARR_TIME  ARR_DEL15  CANCELLED  DIVERTED  \n",
       "0              2143        0.0        0.0       0.0  \n",
       "1              1435        0.0        0.0       0.0  \n",
       "2              1215        0.0        0.0       0.0  \n",
       "3              1335        0.0        0.0       0.0  \n",
       "4               607        0.0        0.0       0.0  \n",
       "...             ...        ...        ...       ...  \n",
       "11226          1223        0.0        0.0       0.0  \n",
       "11227          2046        0.0        0.0       0.0  \n",
       "11228          2210        0.0        0.0       0.0  \n",
       "11229          1806        0.0        0.0       0.0  \n",
       "11230           925        0.0        0.0       0.0  \n",
       "\n",
       "[11043 rows x 10 columns]"
      ]
     },
     "execution_count": 16,
     "metadata": {},
     "output_type": "execute_result"
    }
   ],
   "source": [
    "# imputing missing values with mean\n",
    "refined_dataset.dropna(inplace=True)\n",
    "refined_dataset"
   ]
  },
  {
   "cell_type": "code",
   "execution_count": 17,
   "metadata": {
    "colab": {
     "base_uri": "https://localhost:8080/"
    },
    "id": "cpNQW-3OEd4F",
    "outputId": "2f511db9-d882-47cf-92a4-a4bfe4fa8e46"
   },
   "outputs": [
    {
     "data": {
      "text/plain": [
       "(11043, 10)"
      ]
     },
     "execution_count": 17,
     "metadata": {},
     "output_type": "execute_result"
    }
   ],
   "source": [
    "refined_dataset.shape"
   ]
  },
  {
   "cell_type": "code",
   "execution_count": 18,
   "metadata": {},
   "outputs": [
    {
     "data": {
      "text/plain": [
       "MONTH              int64\n",
       "DAY_OF_MONTH       int64\n",
       "CRS_DEP_TIME       int64\n",
       "DEP_TIME         float64\n",
       "DEP_DELAY        float64\n",
       "DEP_DEL15       category\n",
       "CRS_ARR_TIME       int64\n",
       "ARR_DEL15       category\n",
       "CANCELLED       category\n",
       "DIVERTED        category\n",
       "dtype: object"
      ]
     },
     "execution_count": 18,
     "metadata": {},
     "output_type": "execute_result"
    }
   ],
   "source": [
    "# converting float values to categorical\n",
    "columns = ['DEP_DEL15', 'CANCELLED', 'DIVERTED', 'ARR_DEL15']\n",
    "for col in columns:\n",
    "    refined_dataset[col] = refined_dataset[col].astype('int').astype('category')\n",
    "refined_dataset.dtypes"
   ]
  },
  {
   "cell_type": "code",
   "execution_count": 19,
   "metadata": {},
   "outputs": [
    {
     "data": {
      "text/plain": [
       "MONTH              int64\n",
       "DAY_OF_MONTH       int64\n",
       "CRS_DEP_TIME       int64\n",
       "DEP_TIME           int32\n",
       "DEP_DELAY          int32\n",
       "DEP_DEL15       category\n",
       "CRS_ARR_TIME       int64\n",
       "ARR_DEL15       category\n",
       "CANCELLED       category\n",
       "DIVERTED        category\n",
       "dtype: object"
      ]
     },
     "execution_count": 19,
     "metadata": {},
     "output_type": "execute_result"
    }
   ],
   "source": [
    "# converting float values to categorical\n",
    "columns = ['DEP_TIME', 'DEP_DELAY']\n",
    "for col in columns:\n",
    "    refined_dataset[col] = refined_dataset[col].astype('int')\n",
    "refined_dataset.dtypes"
   ]
  },
  {
   "cell_type": "markdown",
   "metadata": {},
   "source": [
    "PREPARING FOR TRAINING"
   ]
  },
  {
   "cell_type": "code",
   "execution_count": 20,
   "metadata": {
    "id": "L6dl2WTuCem9"
   },
   "outputs": [],
   "source": [
    "# split dependent and independent variables\n",
    "X = refined_dataset[['MONTH', 'DAY_OF_MONTH', 'CRS_DEP_TIME', 'DEP_TIME', 'DEP_DELAY',     \n",
    "                  'DEP_DEL15', 'CRS_ARR_TIME', 'CANCELLED', 'DIVERTED']]     \n",
    "Y = refined_dataset[['ARR_DEL15']]"
   ]
  },
  {
   "cell_type": "code",
   "execution_count": 21,
   "metadata": {
    "id": "YzaNj0njDKYi"
   },
   "outputs": [
    {
     "data": {
      "text/plain": [
       "ARR_DEL15\n",
       "0            6481\n",
       "1             917\n",
       "dtype: int64"
      ]
     },
     "execution_count": 21,
     "metadata": {},
     "output_type": "execute_result"
    }
   ],
   "source": [
    " # splitting into train and test data\n",
    "X_train, X_test, y_train, y_test = train_test_split(X, Y, test_size=0.33, random_state=42)\n",
    "y_train.value_counts()"
   ]
  },
  {
   "cell_type": "code",
   "execution_count": 22,
   "metadata": {
    "colab": {
     "base_uri": "https://localhost:8080/"
    },
    "id": "dzTjF7l4Dlxd",
    "outputId": "6ec18cdd-d37d-4ddc-b928-5790ab26e333"
   },
   "outputs": [
    {
     "name": "stdout",
     "output_type": "stream",
     "text": [
      "Confusion matrix\n",
      " [[2968  162]\n",
      " [ 219  296]]\n",
      "Classification report\n",
      "               precision    recall  f1-score   support\n",
      "\n",
      "           0       0.93      0.95      0.94      3130\n",
      "           1       0.65      0.57      0.61       515\n",
      "\n",
      "    accuracy                           0.90      3645\n",
      "   macro avg       0.79      0.76      0.77      3645\n",
      "weighted avg       0.89      0.90      0.89      3645\n",
      "\n",
      "Accuracy score\n",
      " 0.8954732510288066\n"
     ]
    }
   ],
   "source": [
    "# decision tree classifier\n",
    "decision_tree_classifier = DecisionTreeClassifier()\n",
    "decision_tree_classifier = decision_tree_classifier.fit(X_train,y_train)\n",
    "decision_tree_prediction = decision_tree_classifier.predict(X_test)\n",
    "# performance metrics\n",
    "print(\"Confusion matrix\\n\", confusion_matrix(decision_tree_prediction, y_test))\n",
    "print(\"Classification report\\n\", classification_report(decision_tree_prediction, y_test))\n",
    "print(\"Accuracy score\\n\", accuracy_score(decision_tree_prediction, y_test))"
   ]
  },
  {
   "cell_type": "code",
   "execution_count": 23,
   "metadata": {
    "id": "C4YGy-d7Dl0D"
   },
   "outputs": [
    {
     "name": "stderr",
     "output_type": "stream",
     "text": [
      "C:\\Users\\Dharshan saravanan\\Videos\\ana\\lib\\site-packages\\sklearn\\utils\\validation.py:993: DataConversionWarning: A column-vector y was passed when a 1d array was expected. Please change the shape of y to (n_samples, ), for example using ravel().\n",
      "  y = column_or_1d(y, warn=True)\n"
     ]
    },
    {
     "name": "stdout",
     "output_type": "stream",
     "text": [
      "Confusion matrix\n",
      " [[3185  342]\n",
      " [   2  116]]\n",
      "Classification report\n",
      "               precision    recall  f1-score   support\n",
      "\n",
      "           0       1.00      0.90      0.95      3527\n",
      "           1       0.25      0.98      0.40       118\n",
      "\n",
      "    accuracy                           0.91      3645\n",
      "   macro avg       0.63      0.94      0.68      3645\n",
      "weighted avg       0.98      0.91      0.93      3645\n",
      "\n",
      "Accuracy score\n",
      " 0.9056241426611797\n"
     ]
    }
   ],
   "source": [
    "# svc model\n",
    "SVC_model = SVC()\n",
    "SVC_model.fit(X_train, y_train)\n",
    "SVC_prediction = SVC_model.predict(X_test)\n",
    "# performance metrics\n",
    "print(\"Confusion matrix\\n\", confusion_matrix(SVC_prediction, y_test))\n",
    "print(\"Classification report\\n\", classification_report(SVC_prediction, y_test))\n",
    "print(\"Accuracy score\\n\", accuracy_score(SVC_prediction, y_test))"
   ]
  },
  {
   "cell_type": "code",
   "execution_count": 24,
   "metadata": {
    "colab": {
     "base_uri": "https://localhost:8080/"
    },
    "id": "3Ls60PdTDl2X",
    "outputId": "07727e1b-1430-4654-cd26-4de3be77df22"
   },
   "outputs": [
    {
     "name": "stderr",
     "output_type": "stream",
     "text": [
      "C:\\Users\\Dharshan saravanan\\Videos\\ana\\lib\\site-packages\\sklearn\\neighbors\\_classification.py:198: DataConversionWarning: A column-vector y was passed when a 1d array was expected. Please change the shape of y to (n_samples,), for example using ravel().\n",
      "  return self._fit(X, y)\n",
      "C:\\Users\\Dharshan saravanan\\Videos\\ana\\lib\\site-packages\\sklearn\\neighbors\\_classification.py:228: FutureWarning: Unlike other reduction functions (e.g. `skew`, `kurtosis`), the default behavior of `mode` typically preserves the axis it acts along. In SciPy 1.11.0, this behavior will change: the default value of `keepdims` will become False, the `axis` over which the statistic is taken will be eliminated, and the value None will no longer be accepted. Set `keepdims` to True or False to avoid this warning.\n",
      "  mode, _ = stats.mode(_y[neigh_ind, k], axis=1)\n"
     ]
    },
    {
     "name": "stdout",
     "output_type": "stream",
     "text": [
      "Confusion matrix\n",
      " [[3143  219]\n",
      " [  44  239]]\n",
      "Classification report\n",
      "               precision    recall  f1-score   support\n",
      "\n",
      "           0       0.99      0.93      0.96      3362\n",
      "           1       0.52      0.84      0.65       283\n",
      "\n",
      "    accuracy                           0.93      3645\n",
      "   macro avg       0.75      0.89      0.80      3645\n",
      "weighted avg       0.95      0.93      0.94      3645\n",
      "\n",
      "Accuracy score\n",
      " 0.9278463648834019\n"
     ]
    }
   ],
   "source": [
    "# knn model\n",
    "KNN_model = KNeighborsClassifier(n_neighbors=5)\n",
    "KNN_model.fit(X_train, y_train)\n",
    "KNN_prediction = KNN_model.predict(X_test)\n",
    "# performance metrics\n",
    "print(\"Confusion matrix\\n\", confusion_matrix(KNN_prediction, y_test))\n",
    "print(\"Classification report\\n\", classification_report(KNN_prediction, y_test))\n",
    "print(\"Accuracy score\\n\", accuracy_score(KNN_prediction, y_test))"
   ]
  },
  {
   "cell_type": "code",
   "execution_count": 25,
   "metadata": {},
   "outputs": [
    {
     "name": "stdout",
     "output_type": "stream",
     "text": [
      "Confusion matrix\n",
      " [[3006  111]\n",
      " [ 181  347]]\n",
      "Classification report\n",
      "               precision    recall  f1-score   support\n",
      "\n",
      "           0       0.94      0.96      0.95      3117\n",
      "           1       0.76      0.66      0.70       528\n",
      "\n",
      "    accuracy                           0.92      3645\n",
      "   macro avg       0.85      0.81      0.83      3645\n",
      "weighted avg       0.92      0.92      0.92      3645\n",
      "\n",
      "Accuracy score\n",
      " 0.9198902606310013\n"
     ]
    },
    {
     "name": "stderr",
     "output_type": "stream",
     "text": [
      "C:\\Users\\Dharshan saravanan\\Videos\\ana\\lib\\site-packages\\sklearn\\utils\\validation.py:993: DataConversionWarning: A column-vector y was passed when a 1d array was expected. Please change the shape of y to (n_samples, ), for example using ravel().\n",
      "  y = column_or_1d(y, warn=True)\n"
     ]
    }
   ],
   "source": [
    "# gaussian naive bayes model\n",
    "GNB_model = GaussianNB()\n",
    "GNB_model.fit(X_train, y_train)\n",
    "GNB_prediction = GNB_model.predict(X_test)\n",
    "# performance metrics\n",
    "print(\"Confusion matrix\\n\", confusion_matrix(GNB_prediction, y_test))\n",
    "print(\"Classification report\\n\", classification_report(GNB_prediction, y_test))\n",
    "print(\"Accuracy score\\n\", accuracy_score(GNB_prediction, y_test))"
   ]
  },
  {
   "cell_type": "code",
   "execution_count": 26,
   "metadata": {},
   "outputs": [
    {
     "name": "stderr",
     "output_type": "stream",
     "text": [
      "C:\\Users\\Dharshan saravanan\\Videos\\ana\\lib\\site-packages\\sklearn\\preprocessing\\_label.py:98: DataConversionWarning: A column-vector y was passed when a 1d array was expected. Please change the shape of y to (n_samples, ), for example using ravel().\n",
      "  y = column_or_1d(y, warn=True)\n",
      "C:\\Users\\Dharshan saravanan\\Videos\\ana\\lib\\site-packages\\sklearn\\preprocessing\\_label.py:133: DataConversionWarning: A column-vector y was passed when a 1d array was expected. Please change the shape of y to (n_samples, ), for example using ravel().\n",
      "  y = column_or_1d(y, warn=True)\n",
      "C:\\Users\\Dharshan saravanan\\Videos\\ana\\lib\\site-packages\\sklearn\\neighbors\\_classification.py:228: FutureWarning: Unlike other reduction functions (e.g. `skew`, `kurtosis`), the default behavior of `mode` typically preserves the axis it acts along. In SciPy 1.11.0, this behavior will change: the default value of `keepdims` will become False, the `axis` over which the statistic is taken will be eliminated, and the value None will no longer be accepted. Set `keepdims` to True or False to avoid this warning.\n",
      "  mode, _ = stats.mode(_y[neigh_ind, k], axis=1)\n"
     ]
    },
    {
     "name": "stdout",
     "output_type": "stream",
     "text": [
      "Confusion matrix\n",
      " [[3151  218]\n",
      " [  36  240]]\n",
      "Classification report\n",
      "               precision    recall  f1-score   support\n",
      "\n",
      "           0       0.99      0.94      0.96      3369\n",
      "           1       0.52      0.87      0.65       276\n",
      "\n",
      "    accuracy                           0.93      3645\n",
      "   macro avg       0.76      0.90      0.81      3645\n",
      "weighted avg       0.95      0.93      0.94      3645\n",
      "\n",
      "Accuracy score\n",
      " 0.9303155006858711\n"
     ]
    }
   ],
   "source": [
    "# ensemble model of best 3 peforming model - gnb, knn, svc\n",
    "ensemble = VotingClassifier(estimators=[('gnb', GNB_model), ('knn', KNN_model), ('svc', SVC_model)], voting='hard')\n",
    "ensemble.fit(X_train, y_train)\n",
    "ensemble_prediction = ensemble.predict(X_test)\n",
    "# performance metrics\n",
    "print(\"Confusion matrix\\n\", confusion_matrix(ensemble_prediction, y_test))\n",
    "print(\"Classification report\\n\", classification_report(ensemble_prediction, y_test))\n",
    "print(\"Accuracy score\\n\", accuracy_score(ensemble_prediction, y_test))"
   ]
  },
  {
   "cell_type": "code",
   "execution_count": null,
   "metadata": {
    "colab": {
     "base_uri": "https://localhost:8080/"
    },
    "id": "CDEhbUNLDl5e",
    "outputId": "73a4b3bd-1ad6-485a-c63d-4a819e62e295"
   },
   "outputs": [],
   "source": [
    "import joblib"
   ]
  }
 ],
 "metadata": {
  "colab": {
   "provenance": []
  },
  "kernelspec": {
   "display_name": "Python 3 (ipykernel)",
   "language": "python",
   "name": "python3"
  },
  "language_info": {
   "codemirror_mode": {
    "name": "ipython",
    "version": 3
   },
   "file_extension": ".py",
   "mimetype": "text/x-python",
   "name": "python",
   "nbconvert_exporter": "python",
   "pygments_lexer": "ipython3",
   "version": "3.9.13"
  },
  "vscode": {
   "interpreter": {
    "hash": "38d3da24d5449e3dc1829f1c495d10cbcbb40205395a55be25d5d4606be7c6f0"
   }
  }
 },
 "nbformat": 4,
 "nbformat_minor": 1
}
